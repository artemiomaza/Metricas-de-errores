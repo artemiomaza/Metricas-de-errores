{
 "cells": [
  {
   "cell_type": "markdown",
   "id": "bf8088cd",
   "metadata": {},
   "source": [
    "# <center>Medición del error</center>"
   ]
  },
  {
   "cell_type": "code",
   "execution_count": 1,
   "id": "4c0edec2",
   "metadata": {},
   "outputs": [],
   "source": [
    "import pandas as pd\n",
    "import numpy as np\n",
    "import math\n",
    "import matplotlib.pyplot as plt\n",
    "import time"
   ]
  },
  {
   "cell_type": "code",
   "execution_count": 2,
   "id": "db1f5fa8",
   "metadata": {},
   "outputs": [
    {
     "name": "stdout",
     "output_type": "stream",
     "text": [
      "200\n"
     ]
    },
    {
     "data": {
      "text/html": [
       "<div>\n",
       "<style scoped>\n",
       "    .dataframe tbody tr th:only-of-type {\n",
       "        vertical-align: middle;\n",
       "    }\n",
       "\n",
       "    .dataframe tbody tr th {\n",
       "        vertical-align: top;\n",
       "    }\n",
       "\n",
       "    .dataframe thead th {\n",
       "        text-align: right;\n",
       "    }\n",
       "</style>\n",
       "<table border=\"1\" class=\"dataframe\">\n",
       "  <thead>\n",
       "    <tr style=\"text-align: right;\">\n",
       "      <th></th>\n",
       "      <th>reales</th>\n",
       "      <th>predichos</th>\n",
       "    </tr>\n",
       "  </thead>\n",
       "  <tbody>\n",
       "    <tr>\n",
       "      <th>0</th>\n",
       "      <td>113.0</td>\n",
       "      <td>66.0</td>\n",
       "    </tr>\n",
       "    <tr>\n",
       "      <th>1</th>\n",
       "      <td>141.0</td>\n",
       "      <td>90.0</td>\n",
       "    </tr>\n",
       "    <tr>\n",
       "      <th>2</th>\n",
       "      <td>118.0</td>\n",
       "      <td>111.0</td>\n",
       "    </tr>\n",
       "  </tbody>\n",
       "</table>\n",
       "</div>"
      ],
      "text/plain": [
       "   reales  predichos\n",
       "0   113.0       66.0\n",
       "1   141.0       90.0\n",
       "2   118.0      111.0"
      ]
     },
     "execution_count": 2,
     "metadata": {},
     "output_type": "execute_result"
    }
   ],
   "source": [
    "df = pd.read_csv('Datos.csv')\n",
    "df = df[['reales','predichos']][0:100]\n",
    "print(df.size)\n",
    "df.head(3)"
   ]
  },
  {
   "cell_type": "markdown",
   "id": "026525c9",
   "metadata": {},
   "source": [
    "### Mean Square Error (MSE)\n",
    "#### Es el método más comúnmente utilizado para poder predecir el error. \n",
    "#### También se utiliza su raíz cuadrada, llamadas root means-squared error"
   ]
  },
  {
   "cell_type": "markdown",
   "id": "3b9cc43b",
   "metadata": {},
   "source": [
    "# MSE =  $ \\frac{(p_{i}-a_{i})^2 +...+ (p_{n}-a_{n})^2}  {n}     $\n",
    "# RMSE $ \\sqrt\\frac{(p_{i}-a_{i})^2 +...+ (p_{n}-a_{n})^2}  {n}     $"
   ]
  },
  {
   "cell_type": "code",
   "execution_count": 3,
   "id": "2fdc1b36",
   "metadata": {},
   "outputs": [],
   "source": [
    "numero_datos = len(df)"
   ]
  },
  {
   "cell_type": "code",
   "execution_count": 4,
   "id": "9ed7e945",
   "metadata": {},
   "outputs": [
    {
     "name": "stdout",
     "output_type": "stream",
     "text": [
      "MSE =  707.6\n",
      "RMSE =  26.600751869073175\n"
     ]
    }
   ],
   "source": [
    "inicio = time.time()\n",
    "sumatoria = 0\n",
    "\n",
    "#función para calcular la diferencia entre p y a, y elevar el resultado al cuadrado\n",
    "def diferencia_cuadrada_potencia(p_i,a_i):\n",
    "    return  (p_i - a_i)**2\n",
    "\n",
    "#Calcular para todas las instancias\n",
    "for i in range(0,numero_datos):\n",
    "    sumatoria += diferencia_cuadrada_potencia(df['predichos'][i],df['reales'][i])\n",
    "     \n",
    "MSE = sumatoria/numero_datos\n",
    "RMSE = math.sqrt(MSE)\n",
    "fin = time.time()\n",
    "\n",
    "print('MSE = ',MSE)\n",
    "print('RMSE = ',RMSE)\n",
    "\n",
    "T_MSE_RMSE = (fin-inicio)"
   ]
  },
  {
   "cell_type": "markdown",
   "id": "c38dc86c",
   "metadata": {},
   "source": [
    "### Mean Absolute Error (MAE)\n",
    "#### Es una medida que solo promedia las magnitudes de cada error de manera individual sin tener en cuenta su signo.\n",
    "#### Los outliers no son exagerados."
   ]
  },
  {
   "cell_type": "markdown",
   "id": "ac167aa3",
   "metadata": {},
   "source": [
    "# MAE =  $ \\frac{|p_{i}-a_{i}| +...+ |p_{n}-a_{n}|}  {n}     $"
   ]
  },
  {
   "cell_type": "code",
   "execution_count": 5,
   "id": "1cc77034",
   "metadata": {},
   "outputs": [
    {
     "name": "stdout",
     "output_type": "stream",
     "text": [
      "MAE =  19.16\n"
     ]
    }
   ],
   "source": [
    "sumatoria = 0\n",
    "inicio = time.time()\n",
    "#función para calcular el valor absoluto de la diferencia entre p y a\n",
    "def diferencia_abs(p_i,a_i):\n",
    "    return  abs(p_i - a_i)\n",
    "\n",
    "#Calcular para todas las instancias\n",
    "for i in range(0,numero_datos):\n",
    "    sumatoria += diferencia_abs(df['predichos'][i],df['reales'][i])\n",
    "\n",
    "MAE = sumatoria/numero_datos\n",
    "fin = time.time()\n",
    "\n",
    "print('MAE = ',MAE)\n",
    "T_MAE = (fin-inicio)"
   ]
  },
  {
   "cell_type": "markdown",
   "id": "5884e945",
   "metadata": {},
   "source": [
    "### Relative Squared Error (RSE)\n",
    "#### Se promedian todos los valores obtenidos con respecto a los valores de entrenamiento (p), por lo que RSE toma todos los errores al cuadrado y los normaliza dividiendo todos los errores del predictor\n"
   ]
  },
  {
   "cell_type": "markdown",
   "id": "1eb7eb57",
   "metadata": {},
   "source": [
    "# RSE =  $ \\frac{(p_{i}-a_{i})^2 +...+ (p_{n}-a_{n})^2}  {(a_{i}-\\overline a)^2 +...+ (a_{n}-\\overline a)^2} $"
   ]
  },
  {
   "cell_type": "markdown",
   "id": "01042147",
   "metadata": {},
   "source": [
    "#### where $  \\overline a = \\frac{1}{n}  \\sum a_{i}$"
   ]
  },
  {
   "cell_type": "code",
   "execution_count": 6,
   "id": "8c89129a",
   "metadata": {},
   "outputs": [
    {
     "name": "stdout",
     "output_type": "stream",
     "text": [
      "RSE =  0.4185\n",
      "RRSE =  0.6469\n"
     ]
    }
   ],
   "source": [
    "inicio = time.time()\n",
    "# a_negada = promedio de a\n",
    "promedio_a_n = df['reales'].sum()\n",
    "promedio_a_n /= numero_datos\n",
    "\n",
    "\n",
    "dividendo = 0\n",
    "divisor = 0\n",
    "\n",
    "\n",
    "#Calcular para todas las instancias\n",
    "for i in range(0,numero_datos):\n",
    "    dividendo += diferencia_cuadrada_potencia(df['predichos'][i],df['reales'][i])\n",
    "    \n",
    "\n",
    "for j in range(0,numero_datos):\n",
    "    divisor += diferencia_cuadrada_potencia(df['reales'][j],promedio_a_n)\n",
    "    \n",
    "    \n",
    "    \n",
    "RSE = dividendo/divisor\n",
    "RRSE = math.sqrt(RSE)\n",
    "fin = time.time()\n",
    "\n",
    "print('RSE = ',round(RSE,4))\n",
    "print('RRSE = ',round(RRSE,4))\n",
    "T_RSE = (fin-inicio)"
   ]
  },
  {
   "cell_type": "markdown",
   "id": "f6012878",
   "metadata": {},
   "source": [
    "### Relative Absolute Error (RAE)\n",
    "#### Es el valor error absoluto, normalizado de la misma manera que con MAE"
   ]
  },
  {
   "cell_type": "markdown",
   "id": "c1230d90",
   "metadata": {},
   "source": [
    "# RAE =  $ \\frac{|p_{i}-a_{i}| +...+ |p_{n}-a_{n}|}  {|a_{i}-\\overline a| +...+ |a_{n}-\\overline a|}     $"
   ]
  },
  {
   "cell_type": "code",
   "execution_count": 7,
   "id": "a09bf984",
   "metadata": {},
   "outputs": [
    {
     "name": "stdout",
     "output_type": "stream",
     "text": [
      "RAE =  0.6333381814335386\n"
     ]
    }
   ],
   "source": [
    "inicio = time.time()\n",
    "\n",
    "dividendo = 0\n",
    "divisor = 0\n",
    "\n",
    "#Calcular para todas las instancias\n",
    "for i in range(0,numero_datos):\n",
    "    dividendo += diferencia_abs(df['predichos'][i],df['reales'][i])\n",
    "    \n",
    "for j in range(0,numero_datos):\n",
    "    divisor += diferencia_abs(df['reales'][j],promedio_a_n)\n",
    "\n",
    "RAE = dividendo/divisor\n",
    "fin = time.time()\n",
    "\n",
    "print('RAE = ',RAE)\n",
    "T_RAE = (fin-inicio)"
   ]
  },
  {
   "cell_type": "markdown",
   "id": "64f52c25",
   "metadata": {},
   "source": [
    "### Correlation Coefficient (CC)\n",
    "#### Mide la correlación estadistica entre los valores actuales (a) y los valores predichos (p).\n",
    "#### El coeficiente de correlación varia de 1 para un resultado de correlacion perfecto a un 0, donde no existe correlación o -1 cuando la correlación es perfecto pero negativo.\n",
    "\n",
    "#### Correlation coefficient:"
   ]
  },
  {
   "cell_type": "markdown",
   "id": "c827add6",
   "metadata": {},
   "source": [
    "## $ \\frac{S_{pa}}{\\sqrt{ S_{p}S_{a}} } $"
   ]
  },
  {
   "cell_type": "markdown",
   "id": "07a50549",
   "metadata": {},
   "source": [
    "#### where "
   ]
  },
  {
   "cell_type": "markdown",
   "id": "364d9ff7",
   "metadata": {},
   "source": [
    "$ S_{pa} = \\frac {\\sum (p-\\overline p)(a- \\overline a)}{n-1}$"
   ]
  },
  {
   "cell_type": "code",
   "execution_count": 8,
   "id": "ed2b1f83",
   "metadata": {},
   "outputs": [],
   "source": [
    "inicio = time.time()\n",
    "# p_negada = promedio de p\n",
    "promedio_p_n = df['predichos'].sum()\n",
    "promedio_p_n /= numero_datos"
   ]
  },
  {
   "cell_type": "code",
   "execution_count": 9,
   "id": "3a0aa5ce",
   "metadata": {},
   "outputs": [],
   "source": [
    "def suma_producto_spa(p, p_n, a, a_n):\n",
    "    return (p-p_n)*(a-a_n)\n",
    "\n",
    "sumatoria_spa = 0\n",
    "\n",
    "for i in range(0,numero_datos):\n",
    "    sumatoria_spa += suma_producto_spa(df['predichos'][i],promedio_p_n,df['reales'][i],promedio_a_n)\n",
    "    \n",
    "s_pa = sumatoria_spa/(numero_datos-1)"
   ]
  },
  {
   "cell_type": "markdown",
   "id": "41705967",
   "metadata": {},
   "source": [
    "$ S_{p} = \\frac {\\sum (p-\\overline p)^2}{n-1}$"
   ]
  },
  {
   "cell_type": "code",
   "execution_count": 10,
   "id": "21e81602",
   "metadata": {},
   "outputs": [],
   "source": [
    "p_prom = 0\n",
    "for j in range(0,numero_datos):\n",
    "    p_prom += diferencia_cuadrada_potencia(df['predichos'][j],promedio_p_n)\n",
    "s_p = p_prom/(numero_datos-1)"
   ]
  },
  {
   "cell_type": "markdown",
   "id": "a7288274",
   "metadata": {},
   "source": [
    "$ S_{a} = \\frac {\\sum (a-\\overline a)^2}{n-1}$"
   ]
  },
  {
   "cell_type": "code",
   "execution_count": 11,
   "id": "3342f869",
   "metadata": {},
   "outputs": [],
   "source": [
    "a_prom = 0\n",
    "for k in range(0,numero_datos):\n",
    "    a_prom += diferencia_cuadrada_potencia(df['reales'][k],promedio_a_n)\n",
    "s_a = a_prom/(numero_datos-1)"
   ]
  },
  {
   "cell_type": "markdown",
   "id": "4999903b",
   "metadata": {},
   "source": [
    "##  Correlation Coefficient (CC) = $ \\frac{S_{pa}}{\\sqrt( S_{p}S_{a}) } $"
   ]
  },
  {
   "cell_type": "code",
   "execution_count": 12,
   "id": "288619fc",
   "metadata": {},
   "outputs": [
    {
     "name": "stdout",
     "output_type": "stream",
     "text": [
      "CC =  0.8158317676525696\n"
     ]
    }
   ],
   "source": [
    "CC = s_pa/( math.sqrt(s_p*s_a) )\n",
    "fin = time.time()\n",
    "\n",
    "print('CC = ',CC)\n",
    "T_CC = (fin-inicio)"
   ]
  },
  {
   "cell_type": "markdown",
   "id": "fa3a8235",
   "metadata": {},
   "source": [
    "## Medida de medición del error\n",
    "### <li>En general, se utiliza de manera indistinta la medición del error o por defecto se utiliza RMSE. En realidad, no existe una receceta para siempre utlizar un método en particular, sino que se dependerá de los datos, la aplicación , etcétera.\n",
    "### <li> Se tiene que preguntar: ¿Qué se está tratando de minimizar?<ol>\n",
    "### <li> ¿Cuál es el costo que representa el resultado (y los cálculos) de cada uno de los método <ol>\n",
    "### <li> ¿Cuándo es más útil utilizar un método con respecto a los otros?<ol>"
   ]
  },
  {
   "cell_type": "code",
   "execution_count": 13,
   "id": "9749cef0",
   "metadata": {},
   "outputs": [
    {
     "name": "stdout",
     "output_type": "stream",
     "text": [
      "Valor de los errores calculados\n",
      "Mean Square Error:  707.6\n",
      "Roor Mean Scuare Error:  26.600751869073175\n",
      "Mean Absolute Error:  19.16\n",
      "Relative Squared Error:  0.4184889556116051\n",
      "Root Relative Squared Error:  0.6469072233416513\n",
      "Relative Absolute Error:  0.6333381814335386\n",
      "Correlation Coefficient:  0.8158317676525696\n"
     ]
    }
   ],
   "source": [
    "print('Valor de los errores calculados')\n",
    "print('Mean Square Error: ',MSE)\n",
    "print('Roor Mean Scuare Error: ',RMSE)\n",
    "print('Mean Absolute Error: ',MAE)\n",
    "print('Relative Squared Error: ',RSE)\n",
    "print('Root Relative Squared Error: ',RRSE)\n",
    "print('Relative Absolute Error: ',RAE)\n",
    "print('Correlation Coefficient: ',CC)"
   ]
  },
  {
   "cell_type": "markdown",
   "id": "e4419fc8",
   "metadata": {},
   "source": [
    "### No se esta tratando de minimizar nada, lo que se trata es de calcular el error en los algoritmos, mediante los diferentes métodos, para posteriormente tratar de minimizar la señal de error algo así como un sistema de control.\n",
    "\n",
    "### Costo que representa:"
   ]
  },
  {
   "cell_type": "code",
   "execution_count": 14,
   "id": "407a2d50",
   "metadata": {},
   "outputs": [
    {
     "name": "stdout",
     "output_type": "stream",
     "text": [
      "Tiempos\n",
      "MSE y RMSE:  0.0019998550415039062\n",
      "MAE:  0.0019979476928710938\n",
      "RSE:  0.002000093460083008\n",
      "RAE:  0.0019996166229248047\n",
      "CC:  0.06251144409179688\n"
     ]
    }
   ],
   "source": [
    "print('Tiempos')\n",
    "print('MSE y RMSE: ',T_MSE_RMSE)\n",
    "print('MAE: ',T_MAE)\n",
    "print('RSE: ',T_RSE)\n",
    "print('RAE: ',T_RAE)\n",
    "print('CC: ',T_CC)"
   ]
  },
  {
   "cell_type": "markdown",
   "id": "88a0f668",
   "metadata": {},
   "source": [
    "### El dataset es pequeño y se muestran los tiempos de ejecución los cuales son muy bajos, con un conjunto de datos más grande se podría apreciar mejor la duración de estos, pero se espera que MSE , RMSE , MAE tengan menor tiempo de ejecución ya que se definen menos operaciones."
   ]
  },
  {
   "cell_type": "markdown",
   "id": "6307afab",
   "metadata": {},
   "source": [
    "### Su utilidad correspondera a lo que se busca calcular.\n",
    "\n",
    "### MSE: proporciona una función cuadrática de pérdida en la medida en que eleva al cuadrado y, posteriormente, promedia los varios errores; lo cual le da mucho más peso a los grandes errores (valores atípicos) que a los más pequeños.\n",
    "\n",
    "### MAE: Este criterio es similar al coeficiente RMSE. Sin embargo, es más robusto ya que es menos sensible a valores extremos que el MSE.\n",
    "\n",
    "### Todas las medidas de distancia (MSE, RMSE y MAE) son equivalentes y permiten cuantificar cómo las soluciones aproximadas coinciden con los datos simulados. Un valor pequeño para estos criterios significa que el modelo estimado puede predecir los valores de la respuesta del modelo más complejo.\n",
    "\n",
    "### RSE: El error cuadrático relativo (RSE) es relativo a lo que habría sido si se hubiera utilizado un predictor simple. Más específicamente, este simple predictor es solo el promedio de los valores reales. Por lo tanto, el error cuadrático relativo toma el error cuadrático total y lo normaliza dividiéndolo por el error cuadrático total del predictor simple. Se puede comparar entre modelos cuyos errores se miden en las diferentes unidades.\n",
    "\n",
    "### RAE: Es una forma de medir el rendimiento de un modelo predictivo. No debe confundirse con el error relativo, que es una medida general de precisión o exactitud para instrumentos como relojes, reglas o escalas. Se expresa como una razón, comparando un error medio (residual) con los errores producidos por un modelo trivial o ingenuo. Un buen modelo de pronóstico producirá un índice cercano a cero; Un modelo deficiente (uno que es peor que el modelo ingenuo) producirá una proporción mayor que uno.\n",
    "\n",
    "### CC: Para dos variables, la fórmula compara la distancia de cada dato puntual respecto a la media de la variable y utiliza esta comparación para decirnos hasta qué punto la relación entre las variables se ajusta a una línea imaginaria trazada entre los datos. A esto nos referimos cuando decimos que la correlación examina las relaciones lineales."
   ]
  },
  {
   "cell_type": "raw",
   "id": "35b303b3",
   "metadata": {},
   "source": [
    "https://www.sciencedirect.com/topics/engineering/mean-absolute-error"
   ]
  },
  {
   "cell_type": "code",
   "execution_count": 15,
   "id": "d793a71d",
   "metadata": {
    "scrolled": true
   },
   "outputs": [
    {
     "data": {
      "image/png": "[encoded data removed]",
      "text/plain": [
       "<Figure size 432x288 with 1 Axes>"
      ]
     },
     "metadata": {
      "needs_background": "light"
     },
     "output_type": "display_data"
    }
   ],
   "source": [
    "plt.plot(df['reales'],'-bo',label = 'Reales')\n",
    "plt.plot(df['predichos'],'-ro',label = 'Predicciones')\n",
    "plt.legend()\n",
    "plt.grid()"
   ]
  }
 ],
 "metadata": {
  "interpreter": {
   "hash": "b3ba2566441a7c06988d0923437866b63cedc61552a5af99d1f4fb67d367b25f"
  },
  "kernelspec": {
   "display_name": "Python 3 (ipykernel)",
   "language": "python",
   "name": "python3"
  },
  "language_info": {
   "codemirror_mode": {
    "name": "ipython",
    "version": 3
   },
   "file_extension": ".py",
   "mimetype": "text/x-python",
   "name": "python",
   "nbconvert_exporter": "python",
   "pygments_lexer": "ipython3",
   "version": "3.8.8"
  }
 },
 "nbformat": 4,
 "nbformat_minor": 5
}
